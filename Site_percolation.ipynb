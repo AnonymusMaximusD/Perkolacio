{
  "nbformat": 4,
  "nbformat_minor": 0,
  "metadata": {
    "colab": {
      "provenance": [],
      "gpuType": "T4"
    },
    "kernelspec": {
      "name": "python3",
      "display_name": "Python 3"
    },
    "language_info": {
      "name": "python"
    },
    "accelerator": "GPU",
    "gpuClass": "standard"
  },
  "cells": [
    {
      "cell_type": "code",
      "source": [
        "import tensorflow as tf\n",
        "device_name = tf.test.gpu_device_name()\n",
        "if device_name != '/device:GPU:0':\n",
        "  raise SystemError('GPU device not found')\n",
        "print('Found GPU at: {}'.format(device_name))"
      ],
      "metadata": {
        "colab": {
          "base_uri": "https://localhost:8080/"
        },
        "id": "n1U8UT9ww6Xp",
        "outputId": "5f5adb77-7e1d-4493-d7e8-703fe3d53192"
      },
      "execution_count": 5,
      "outputs": [
        {
          "output_type": "stream",
          "name": "stdout",
          "text": [
            "Found GPU at: /device:GPU:0\n"
          ]
        }
      ]
    },
    {
      "cell_type": "code",
      "execution_count": 22,
      "metadata": {
        "id": "LtWX2dbZswhL"
      },
      "outputs": [],
      "source": [
        "import time\n",
        "import random\n",
        "import numpy as np\n",
        "from numba import jit\n",
        "import tensorflow as tf\n",
        "\n",
        "def site_percolation(n, p, megjelenit=False): # Ez egy kicsit gyorsabb\n",
        "  with tf.device('/device:GPU:0'):\n",
        "    # create an n x n grid of sites\n",
        "    sites = [[False for _ in range(n)] for _ in range(n)]\n",
        "    # open each site with probability p\n",
        "    for i in range(n):\n",
        "        for j in range(n):\n",
        "            if random.random() < p:\n",
        "                sites[i][j] = True\n",
        "    if megjelenit:\n",
        "      table=sites.copy()\n",
        "    # check if there is a path of open sites from top to bottom\n",
        "    visited = set()\n",
        "    stack = [(0, j) for j in range(n) if sites[0][j]]\n",
        "\n",
        "    while stack:\n",
        "        i, j = stack.pop()\n",
        "\n",
        "        if i == n - 1:\n",
        "            return True\n",
        "\n",
        "        visited.add((i, j))\n",
        "\n",
        "        for di, dj in [(0, 1), (0, -1), (1, 0), (-1, 0)]:\n",
        "            ni, nj = i + di, j + dj\n",
        "\n",
        "            if 0 <= ni < n and 0 <= nj < n and sites[ni][nj] and (ni, nj) not in visited:\n",
        "                stack.append((ni, nj))\n",
        "    if megjelenit:\n",
        "      return \n",
        "    return False\n",
        "\n",
        "def estimate_pc(n, trials, p_precision):    # Ez egy kicsit gyorsabb\n",
        "    with tf.device('/device:GPU:0'):\n",
        "      answer = []\n",
        "      a = 0.58\n",
        "      legjobb_e = 1\n",
        "      legjobb = 1\n",
        "      for p in [a+i / (40*p_precision) for i in range(1, p_precision)]:\n",
        "          successes = 0\n",
        "          for _ in range(trials):\n",
        "              #board=np.random.rand(n,n)\n",
        "              if site_percolation(n,p):     #board, p):\n",
        "                  successes += 1\n",
        "\n",
        "          estimate = successes / trials\n",
        "          if int((p-a)*p_precision*40)%100 == 0:\n",
        "            print(p)\n",
        "\n",
        "          if abs(estimate - 0.5) < legjobb_e:\n",
        "            legjobb = p\n",
        "            legjobb_e = abs(estimate - 0.5)\n",
        "          if abs(estimate - 0.5) < (0.1/trials):\n",
        "              answer.append(p)\n",
        "      return answer, legjobb\n",
        "\n",
        "def Gpu():\n",
        "  with tf.device('/device:GPU:0'):\n",
        "    start_time = time.perf_counter()\n",
        "    # Calculate elapsed time\n",
        "    # example usage\n",
        "    n = 100\n",
        "    trials = 1000\n",
        "    p_precision = 1000\n",
        "    pc = estimate_pc(n, trials, p_precision)\n",
        "\n",
        "    print(f\"Várt kritikus valószínűség az {n}x{n}-es négyzetrácson: {pc}\")\n",
        "    end_time = time.perf_counter()\n",
        "    print(\"Elapsed time: \", end_time - start_time)\n",
        "    return pc"
      ]
    },
    {
      "cell_type": "code",
      "source": [
        "pc=Gpu()"
      ],
      "metadata": {
        "colab": {
          "base_uri": "https://localhost:8080/"
        },
        "id": "z96JHvxuxBLu",
        "outputId": "79c524d5-ca9b-4bf4-c1d9-14dcc822dce6"
      },
      "execution_count": 19,
      "outputs": [
        {
          "output_type": "stream",
          "name": "stdout",
          "text": [
            "0.5801\n",
            "0.59\n",
            "0.5901\n",
            "0.6\n",
            "Várt kritikus valószínűség az 100x100-es négyzetrácson: ([0.5913999999999999, 0.592, 0.5926, 0.594, 0.5943999999999999], 0.5913999999999999)\n",
            "Elapsed time:  281.00122495999994\n"
          ]
        }
      ]
    },
    {
      "cell_type": "code",
      "source": [
        "megoldasok = pc[0].copy()\n",
        "print(megoldasok)"
      ],
      "metadata": {
        "colab": {
          "base_uri": "https://localhost:8080/"
        },
        "id": "BD57gA5K4kCF",
        "outputId": "44708ab8-ebff-46f0-9697-bfe8266a5037"
      },
      "execution_count": 20,
      "outputs": [
        {
          "output_type": "stream",
          "name": "stdout",
          "text": [
            "[0.5913999999999999, 0.592, 0.5926, 0.594, 0.5943999999999999]\n"
          ]
        }
      ]
    },
    {
      "cell_type": "code",
      "source": [
        "egy_megoldas = megoldasok.copy()\n",
        "print(egy_megoldas)"
      ],
      "metadata": {
        "colab": {
          "base_uri": "https://localhost:8080/"
        },
        "id": "4oKsM7knX9-C",
        "outputId": "c24b7e68-f7df-4196-bca5-3cd351cdb6f3"
      },
      "execution_count": 21,
      "outputs": [
        {
          "output_type": "stream",
          "name": "stdout",
          "text": [
            "[0.5913999999999999, 0.592, 0.5926, 0.594, 0.5943999999999999]\n"
          ]
        }
      ]
    },
    {
      "cell_type": "code",
      "source": [
        "\n",
        "def site_percolation1(board, p):\n",
        "    new_arr = np.where(board < p, True, False)\n",
        "\n",
        "    visited = set()\n",
        "    stack = [(0, j) for j in range(n) if new_arr[0][j]]\n",
        "\n",
        "    while stack:\n",
        "        i, j = stack.pop()\n",
        "\n",
        "        if i == n - 1:\n",
        "            return True\n",
        "\n",
        "        visited.add((i, j))\n",
        "\n",
        "        for di, dj in [(0, 1), (0, -1), (1, 0), (-1, 0)]:\n",
        "            ni, nj = i + di, j + dj\n",
        "\n",
        "            if 0 <= ni < n and 0 <= nj < n and new_arr[ni][nj] and (ni, nj) not in visited:\n",
        "                stack.append((ni, nj))\n",
        "    return False\n",
        "\n",
        "def estimate_pc1(n, trials, p_precision):\n",
        "    answer = []\n",
        "    a = 0.58\n",
        "    successes=np.zeros(p_precision)\n",
        "    probs = [a+i / (40*p_precision) for i in range(p_precision)]\n",
        "    for _ in range(trials):\n",
        "        board=np.random.rand(n,n)\n",
        "        for idx, p in enumerate(probs):\n",
        "            if site_percolation(board, p):\n",
        "                successes[idx] += 1\n",
        "        #print(successes)\n",
        "\n",
        "    estimate = successes / trials\n",
        "    #print(estimate,\" estimate\")\n",
        "    good_idx=(abs(estimate-0.5) < (0.5/trials)).nonzero()\n",
        "    #print(good_idx)\n",
        "    for i in good_idx[0]:\n",
        "      answer.append(probs[i])\n",
        "    #print(good_idx,\" good_idx\")\n",
        "    #answer = probs[good_idx]\n",
        "    return answer\n"
      ],
      "metadata": {
        "id": "38tbT7FCq8-m"
      },
      "execution_count": null,
      "outputs": []
    }
  ]
}